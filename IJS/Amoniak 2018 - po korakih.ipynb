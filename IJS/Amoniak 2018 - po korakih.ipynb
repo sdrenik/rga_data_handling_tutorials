{
 "cells": [
  {
   "cell_type": "code",
   "execution_count": 1,
   "metadata": {
    "collapsed": true
   },
   "outputs": [],
   "source": [
    "# prvi pristop do meritev iz MIC IJS, Amoniak 2018\n",
    "# eksperimenti Sabine Markelj,\n",
    "# Analiza razmerja vodikovih izotopov v amoniaku\n",
    "\n",
    "import scipy as sp\n",
    "\n",
    "import scipy as sp\n",
    "import os, glob\n",
    "import importer_quadera\n",
    "\n",
    "from rga_data_handling import Class as rga\n",
    "from rga_data_handling import RGA_class_plotter as plot\n",
    "from rga_data_handling import fit_many_times as fmt\n",
    "\n",
    "import matplotlib.pyplot as plt\n",
    "\n",
    "\n",
    "local_path = os.environ['LOCAL_DATA_PATH']\n",
    "\n",
    "maindir = os.path.join(local_path, 'IJS', 'Sabina','Ammonia_2018')\n",
    "dirname = os.path.join(maindir, 'ASC_data')\n",
    "output_path = os.path.join(maindir, 'output')\n",
    "fajli = glob.glob(os.path.join(dirname, \"*.asc\"))\n",
    "\n",
    "calib_fn = 'Prisma_IJS_MIC_2018.txt'\n",
    "calib_path = os.path.join(maindir, calib_fn)\n",
    "\n",
    "\n",
    "def load_trace(filename, add=None, interval=None):\n",
    "    err, tag, c_raw, columns = importer_quadera.read_quadera_MID2(filename)\n",
    "    ime = os.path.basename(filename)[34:][:-4]\n",
    "    filename_stripped = os.path.split(filename)[-1]\n",
    "    datetag = filename_stripped.split(' ')[0]\n",
    "    if add != None:\n",
    "        ime = \"%s_%s\" %(ime, add)\n",
    "    print \"%s %s\" %(datetag, ime)\n",
    "    tag['title'] = ime\n",
    "    if err != 0:\n",
    "        print \"skipping\"\n",
    "        return [], \"\", \"\"\n",
    "    savename = os.path.join(output_path, \"%s.pk\" %ime)\n",
    "    if interval != None:\n",
    "        mask = (columns['time'] >= interval[0]) & (columns['time'] <= interval[1])\n",
    "        try:\n",
    "            for key in columns.keys():\n",
    "                columns[key] = columns[key][mask]\n",
    "        except:\n",
    "            print 'Something wrong with interval'\n",
    "    trace = rga.Trace(columns, tag)\n",
    "    trace.set_timecol('time')\n",
    "    trace.replace_CP(calib_path)\n",
    "    plot_name = os.path.join(output_path, \"%s.png\" %ime)\n",
    "    return trace, savename, plot_name"
   ]
  },
  {
   "cell_type": "code",
   "execution_count": null,
   "metadata": {
    "collapsed": true
   },
   "outputs": [],
   "source": [
    "# Nekaksen kataog meritev\n",
    "# 1 - 8.5., mid 1 (idx 3), 0 - 1200 s, TDS NH3;\n",
    "#     8.5. mid 2 (idx 4) 3400 - 4500 s ponoven TDS NH3, vmes mogoce exposure?\n",
    "# 2 - 8.5., mid 3 (idx 5), 0 - 1500 s exposure NH3 D2, 4400 - 6000 s TDS\n",
    "# 3 - 8.5., mid 4 ?? (idx ?), p & T variation during NH3 & D2 exposure\n",
    "# 4 - "
   ]
  },
  {
   "cell_type": "code",
   "execution_count": 4,
   "metadata": {
    "collapsed": false
   },
   "outputs": [
    {
     "name": "stdout",
     "output_type": "stream",
     "text": [
      "20180508 1802 mid2\n"
     ]
    }
   ],
   "source": [
    "# 1 - kalibracija za amoniak\n",
    "\n",
    "idx = 4\n",
    "tr, sv_fn, pl_fn = load_trace(fajli[idx])"
   ]
  },
  {
   "cell_type": "code",
   "execution_count": 10,
   "metadata": {
    "collapsed": true
   },
   "outputs": [],
   "source": [
    "# kalibracija za amoniak\n",
    "# dolocim jakost prvega vrha na 0.834\n",
    "\n",
    "mol = 'ammonia'\n",
    "HD = ['pa',.8,1]\n",
    "peaks = [['p1',.5,1], ['p2', 0, .5]]\n",
    "dis = []"
   ]
  },
  {
   "cell_type": "code",
   "execution_count": 11,
   "metadata": {
    "collapsed": true
   },
   "outputs": [],
   "source": [
    "tr.calibrate(mol, HD, peaks, dis, 70, 620, 1)"
   ]
  },
  {
   "cell_type": "code",
   "execution_count": 12,
   "metadata": {
    "collapsed": false
   },
   "outputs": [],
   "source": [
    "fig_num = 1\n",
    "opis = 'kalibracija za NH3'\n",
    "plot_name = '%s_%s.png' %(str(fig_num).zfill(2), opis)\n",
    "\n",
    "plot_path = os.path.join(output_path, plot_name)\n",
    "plot.show_calibration(tr, save_name=plot_path)"
   ]
  },
  {
   "cell_type": "code",
   "execution_count": 37,
   "metadata": {
    "collapsed": false
   },
   "outputs": [
    {
     "name": "stdout",
     "output_type": "stream",
     "text": [
      "20180508 1802 mid1\n"
     ]
    }
   ],
   "source": [
    "# 2 - analiza prvega TDSja\n",
    "\n",
    "idx = 3\n",
    "tr, sv_fn, pl_fn = load_trace(fajli[idx])\n",
    "\n",
    "HM = {}\n",
    "HM['ammonia'] = ['a', 'ammonia', ['pa', 0.8, 1]]\n",
    "HM['water'] = ['w', 'water', ['pw', .9, 1]]\n",
    "\n",
    "NHM = {}\n",
    "NHM['nitrogen'] = ['nit', \"N2\"]\n",
    "\n",
    "dis = []\n",
    "\n",
    "t1 = 0\n",
    "t2 = 1200\n",
    "t3 = 3000\n",
    "\n",
    "step = 10"
   ]
  },
  {
   "cell_type": "code",
   "execution_count": 16,
   "metadata": {
    "collapsed": false
   },
   "outputs": [
    {
     "name": "stdout",
     "output_type": "stream",
     "text": [
      "Deconvolutiuon for 1802 mid1 done, duration 9.64327507087 s.\n"
     ]
    }
   ],
   "source": [
    "tr.deconvolute(HM, NHM, dis, t1, t2, step)"
   ]
  },
  {
   "cell_type": "code",
   "execution_count": 19,
   "metadata": {
    "collapsed": false
   },
   "outputs": [],
   "source": [
    "# plot 2 - hiter fit prvega TDSja\n",
    "fig_num = 2\n",
    "opis = 'hiter fit prvega TDS-ja'\n",
    "plot_name = '%s_%s.png' %(str(fig_num).zfill(2), opis)\n",
    "\n",
    "plot_path = os.path.join(output_path, plot_name)\n",
    "plot.show_results(tr, save_name=plot_path)"
   ]
  },
  {
   "cell_type": "code",
   "execution_count": 38,
   "metadata": {
    "collapsed": false
   },
   "outputs": [
    {
     "name": "stdout",
     "output_type": "stream",
     "text": [
      "Doing 25 for 1802 mid1 :\n",
      " | 1  | 2  | 3  | 4  | 5  | 6  | 7  | 8  | 9  | 10  | 11  | 12  | 13  | 14  | 15  | 16  | 17  | 18  | 19  | 20  | 21  | 22  | 23  | 24  | 25 deconvolution done, total duration 525.319855658 seconds\n"
     ]
    }
   ],
   "source": [
    "# 3 - fit many times prvega dataseta z enakimi nastavitvami\n",
    "\n",
    "trs = fmt.fit_many_times(tr, 25, 0.1, [[], ''], HM, NHM, dis, t1, t2, 3)"
   ]
  },
  {
   "cell_type": "code",
   "execution_count": 39,
   "metadata": {
    "collapsed": true
   },
   "outputs": [],
   "source": [
    "fig_num = 3\n",
    "opis = 'many_times fit prvega TDS-ja'\n",
    "plot_name = '%s_%s.png' %(str(fig_num).zfill(2), opis)\n",
    "plot_path = os.path.join(output_path, plot_name)\n",
    "\n",
    "povp = fmt.povpreci(trs)\n",
    "fmt.errorbar_results(povp)\n",
    "plt.savefig(plot_path, dpi=300)\n",
    "plt.close()"
   ]
  },
  {
   "cell_type": "code",
   "execution_count": 2,
   "metadata": {
    "collapsed": false
   },
   "outputs": [
    {
     "name": "stdout",
     "output_type": "stream",
     "text": [
      "20180508 1802 mid2\n"
     ]
    }
   ],
   "source": [
    "# analiza drugega TDS-ja\n",
    "\n",
    "\n",
    "idx = 4\n",
    "tr, sv_fn, pl_fn = load_trace(fajli[idx])"
   ]
  },
  {
   "cell_type": "code",
   "execution_count": 3,
   "metadata": {
    "collapsed": false
   },
   "outputs": [
    {
     "name": "stdout",
     "output_type": "stream",
     "text": [
      "20180508 1802 mid2\n"
     ]
    }
   ],
   "source": [
    "HM = {}\n",
    "HM['ammonia'] = ['a', 'ammonia', 'pa']\n",
    "HM['water'] = ['w', 'water', 1]\n",
    "\n",
    "NHM = {}\n",
    "NHM['nitrogen'] = ['nit', \"N2\"]\n",
    "\n",
    "dis = []\n",
    "\n",
    "t1 = 0\n",
    "t2 = 3400\n",
    "t3 = 6000\n",
    "\n",
    "step = 10\n",
    "\n",
    "tr, sv_fn, pl_fn = load_trace(fajli[idx], interval=[t2, t3])"
   ]
  },
  {
   "cell_type": "code",
   "execution_count": 25,
   "metadata": {
    "collapsed": false
   },
   "outputs": [
    {
     "name": "stdout",
     "output_type": "stream",
     "text": [
      "Deconvolutiuon for 1802 mid2 done, duration 9.25358679384 s.\n"
     ]
    }
   ],
   "source": [
    "tr.deconvolute(HM, NHM, dis, t2, t3, step)"
   ]
  },
  {
   "cell_type": "code",
   "execution_count": 27,
   "metadata": {
    "collapsed": true
   },
   "outputs": [],
   "source": [
    "# plot 4 - hiter fit drugega TDSja, voda fix na 1\n",
    "fig_num = 4\n",
    "opis = 'hiter fit drugega TDS-ja, vodni HD fix na 1'\n",
    "plot_name = '%s_%s.png' %(str(fig_num).zfill(2), opis)\n",
    "\n",
    "plot_path = os.path.join(output_path, plot_name)\n",
    "plot.show_results(tr, save_name=plot_path)"
   ]
  },
  {
   "cell_type": "code",
   "execution_count": 4,
   "metadata": {
    "collapsed": false
   },
   "outputs": [
    {
     "name": "stdout",
     "output_type": "stream",
     "text": [
      "Doing 25 for 1802 mid2 :\n",
      " | 1  | 2  | 3  | 4  | 5  | 6  | 7  | 8  | 9  | 10  | 11  | 12  | 13  | 14  | 15  | 16  | 17  | 18  | 19  | 20  | 21  | 22  | 23  | 24  | 25 deconvolution done, total duration 163.056985096 seconds\n"
     ]
    }
   ],
   "source": [
    "trs = fmt.fit_many_times(tr, 25, 0.1, [[], ''], HM, NHM, dis, 3500, 4000, 3)"
   ]
  },
  {
   "cell_type": "code",
   "execution_count": 7,
   "metadata": {
    "collapsed": true
   },
   "outputs": [],
   "source": [
    "fig_num = 5\n",
    "opis = 'many_times fit drugega TDS-ja'\n",
    "plot_name = '%s_%s.png' %(str(fig_num).zfill(2), opis)\n",
    "plot_path = os.path.join(output_path, plot_name)\n",
    "\n",
    "povp = fmt.povpreci(trs)\n",
    "fmt.errorbar_results(povp)\n",
    "plt.savefig(plot_path, dpi=300)\n",
    "plt.close()"
   ]
  },
  {
   "cell_type": "code",
   "execution_count": 10,
   "metadata": {
    "collapsed": false
   },
   "outputs": [
    {
     "name": "stdout",
     "output_type": "stream",
     "text": [
      "20180508 1802 mid3\n"
     ]
    }
   ],
   "source": [
    "# Analiza #3 - loading D2 NH3\n",
    "\n",
    "idx = 5\n",
    "tr, sv_fn, pl_fn = load_trace(fajli[idx])"
   ]
  },
  {
   "cell_type": "code",
   "execution_count": 11,
   "metadata": {
    "collapsed": true
   },
   "outputs": [],
   "source": [
    "plot.plot_data(tr)"
   ]
  },
  {
   "cell_type": "code",
   "execution_count": 12,
   "metadata": {
    "collapsed": true
   },
   "outputs": [],
   "source": [
    "# loading\n",
    "t1 = 90\n",
    "t2 = 1500"
   ]
  },
  {
   "cell_type": "code",
   "execution_count": 20,
   "metadata": {
    "collapsed": false
   },
   "outputs": [],
   "source": [
    "HM = {}\n",
    "HM['hydrogen'] = ['h', 'hydrogen', 'ph']\n",
    "HM['ammonia'] = ['a', 'ammonia', 'pa']\n",
    "#HM['NH3_striktno'] = ['NHHH', 'ammonia', 1]\n",
    "HM['water'] = ['w', 'water', 1]\n",
    "\n",
    "NHM = {}\n",
    "NHM['nitrogen'] = ['nit', \"N2\"]\n",
    "\n",
    "dis = []\n",
    "\n",
    "t1 = 90\n",
    "t2 = 1500\n",
    "t3 = 4400\n",
    "t4 = 5400\n",
    "\n",
    "step = 10\n",
    "\n",
    "#tr, sv_fn, pl_fn = load_trace(fajli[idx], interval=[t1, t4])"
   ]
  },
  {
   "cell_type": "code",
   "execution_count": 21,
   "metadata": {
    "collapsed": false
   },
   "outputs": [
    {
     "name": "stdout",
     "output_type": "stream",
     "text": [
      "Deconvolutiuon for 1802 mid3 done, duration 8.33191602286 s.\n"
     ]
    }
   ],
   "source": [
    "tr.deconvolute(HM, NHM, dis, t1, t2, step)"
   ]
  },
  {
   "cell_type": "code",
   "execution_count": 24,
   "metadata": {
    "collapsed": false
   },
   "outputs": [],
   "source": [
    "plot.show_results(tr)"
   ]
  },
  {
   "cell_type": "code",
   "execution_count": 23,
   "metadata": {
    "collapsed": true
   },
   "outputs": [],
   "source": [
    "# plot 6 - hiter fit NH3 D2 exposure\n",
    "fig_num = 6\n",
    "opis = 'hiter NH3 D2 exposure'\n",
    "plot_name = '%s_%s.png' %(str(fig_num).zfill(2), opis)\n",
    "\n",
    "plot_path = os.path.join(output_path, plot_name)\n",
    "plot.show_results(tr, save_name=plot_path)"
   ]
  },
  {
   "cell_type": "code",
   "execution_count": 25,
   "metadata": {
    "collapsed": false
   },
   "outputs": [
    {
     "name": "stdout",
     "output_type": "stream",
     "text": [
      "Doing 25 for 1802 mid3 :\n",
      " | 1  | 2  | 3  | 4  | 5  | 6  | 7  | 8  | 9  | 10  | 11  | 12  | 13  | 14  | 15  | 16  | 17  | 18  | 19  | 20  | 21  | 22  | 23  | 24  | 25 deconvolution done, total duration 475.029970442 seconds\n"
     ]
    }
   ],
   "source": [
    "# 7 - many times fit istega\n",
    "\n",
    "trs = fmt.fit_many_times(tr, 25, 0.1, [[], ''], HM, NHM, dis, 130, 1200, 3)"
   ]
  },
  {
   "cell_type": "code",
   "execution_count": 26,
   "metadata": {
    "collapsed": true
   },
   "outputs": [],
   "source": [
    "fig_num = 7\n",
    "opis = 'many_times fit D2 NH3 exposure'\n",
    "plot_name = '%s_%s.png' %(str(fig_num).zfill(2), opis)\n",
    "plot_path = os.path.join(output_path, plot_name)\n",
    "\n",
    "povp = fmt.povpreci(trs)\n",
    "fmt.errorbar_results(povp)\n",
    "plt.savefig(plot_path, dpi=300)\n",
    "plt.close()"
   ]
  },
  {
   "cell_type": "code",
   "execution_count": 30,
   "metadata": {
    "collapsed": false
   },
   "outputs": [
    {
     "name": "stdout",
     "output_type": "stream",
     "text": [
      "20180508 1802 mid3\n"
     ]
    }
   ],
   "source": [
    "# fit TDSa po NH3 D2\n",
    "\n",
    "HM = {}\n",
    "#HM['hydrogen'] = ['h', 'hydrogen', 'ph']\n",
    "HM['ammonia'] = ['a', 'ammonia', 'pa']\n",
    "#HM['NH3_striktno'] = ['NHHH', 'ammonia', 1]\n",
    "HM['water'] = ['w', 'water', 1]\n",
    "\n",
    "NHM = {}\n",
    "NHM['nitrogen'] = ['nit', \"N2\"]\n",
    "\n",
    "dis = []\n",
    "\n",
    "t1 = 90\n",
    "t2 = 1500\n",
    "t3 = 4400\n",
    "t4 = 5400\n",
    "\n",
    "step = 10\n",
    "\n",
    "tr, sv_fn, pl_fn = load_trace(fajli[idx], interval=[t3, t4])"
   ]
  },
  {
   "cell_type": "code",
   "execution_count": 31,
   "metadata": {
    "collapsed": false
   },
   "outputs": [
    {
     "name": "stdout",
     "output_type": "stream",
     "text": [
      "Deconvolutiuon for 1802 mid3 done, duration 3.36330633532 s.\n"
     ]
    }
   ],
   "source": [
    "tr.deconvolute(HM, NHM, dis, t3, t4, step)"
   ]
  },
  {
   "cell_type": "code",
   "execution_count": 33,
   "metadata": {
    "collapsed": true
   },
   "outputs": [],
   "source": [
    "fig_num = 8\n",
    "opis = 'hiter fit TDS-a po NH3 D2 exposure'\n",
    "plot_name = '%s_%s.png' %(str(fig_num).zfill(2), opis)\n",
    "\n",
    "plot_path = os.path.join(output_path, plot_name)\n",
    "plot.show_results(tr, save_name=plot_path)"
   ]
  },
  {
   "cell_type": "code",
   "execution_count": 34,
   "metadata": {
    "collapsed": false
   },
   "outputs": [
    {
     "name": "stdout",
     "output_type": "stream",
     "text": [
      "Doing 25 for 1802 mid3 :\n",
      " | 1  | 2  | 3  | 4  | 5  | 6  | 7  | 8  | 9  | 10  | 11  | 12  | 13  | 14  | 15  | 16  | 17  | 18  | 19  | 20  | 21  | 22  | 23  | 24  | 25 deconvolution done, total duration 206.920641706 seconds\n"
     ]
    }
   ],
   "source": [
    "# omejimo fit na t4 = 5200\n",
    "\n",
    "trs = fmt.fit_many_times(tr, 25, 0.1, [[], ''], HM, NHM, dis, t3, 5200, 3)"
   ]
  },
  {
   "cell_type": "code",
   "execution_count": 36,
   "metadata": {
    "collapsed": true
   },
   "outputs": [],
   "source": [
    "fig_num = 9\n",
    "opis = 'many_times fit TDS-a po D2 NH3 exposure'\n",
    "plot_name = '%s_%s.png' %(str(fig_num).zfill(2), opis)\n",
    "plot_path = os.path.join(output_path, plot_name)\n",
    "\n",
    "povp = fmt.povpreci(trs)\n",
    "fmt.errorbar_results(povp)\n",
    "plt.savefig(plot_path, dpi=300)\n",
    "plt.close()"
   ]
  },
  {
   "cell_type": "code",
   "execution_count": null,
   "metadata": {
    "collapsed": true
   },
   "outputs": [],
   "source": []
  }
 ],
 "metadata": {
  "kernelspec": {
   "display_name": "Python 2",
   "language": "python",
   "name": "python2"
  },
  "language_info": {
   "codemirror_mode": {
    "name": "ipython",
    "version": 2
   },
   "file_extension": ".py",
   "mimetype": "text/x-python",
   "name": "python",
   "nbconvert_exporter": "python",
   "pygments_lexer": "ipython2",
   "version": "2.7.11"
  }
 },
 "nbformat": 4,
 "nbformat_minor": 0
}

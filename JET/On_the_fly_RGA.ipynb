{
 "metadata": {
  "name": "On_the_fly_RGA"
 },
 "nbformat": 3,
 "nbformat_minor": 0,
 "worksheets": [
  {
   "cells": [
    {
     "cell_type": "code",
     "collapsed": false,
     "input": [
      "import rga_data_wrapper as rga\n",
      "import scipy as sp\n",
      "import matplotlib.pyplot as plt\n",
      "import ppfutils\n",
      "#from copy import copy\n",
      "import pickle\n",
      "from os import path\n",
      "from fit_many_times import *\n",
      "#import glob\n"
     ],
     "language": "python",
     "metadata": {},
     "outputs": [],
     "prompt_number": 7
    },
    {
     "cell_type": "code",
     "collapsed": false,
     "input": [
      "# where the pickle files will be stored\n",
      "\n",
      "data_folder = '/home/adrenik/data/H16-05'\n",
      "\n",
      "# definitions of font sizes for the plot\n",
      "\n",
      "sz = {'legend': 14, 'napis': 10, 'label_y': 20, 'label_x': 20, 'tick_y': 18,'tick_x': 18}"
     ],
     "language": "python",
     "metadata": {},
     "outputs": [],
     "prompt_number": 8
    },
    {
     "cell_type": "code",
     "collapsed": false,
     "input": [
      "JPN = 92141"
     ],
     "language": "python",
     "metadata": {},
     "outputs": [],
     "prompt_number": 9
    },
    {
     "cell_type": "code",
     "collapsed": false,
     "input": [
      "# get the data from JPF - this can be run as soon as the pulse runs out\n",
      "# no need to wait for 'pulse complete'\n",
      "# When the asterisk is gone, the data is loaded.\n",
      "# To check that the data is there, run 'trace.filled'\n",
      "# Returns True if data == OK\n",
      "# If False, see trace.tag - there should be something under 'import error'\n",
      "\n",
      "trace = rga.Trace(JPN, device='RGA3', source='JPF')"
     ],
     "language": "python",
     "metadata": {},
     "outputs": [],
     "prompt_number": 10
    },
    {
     "cell_type": "code",
     "collapsed": false,
     "input": [
      "# Plot the data\n",
      "\n",
      "rga.plot_data(trace)"
     ],
     "language": "python",
     "metadata": {},
     "outputs": [],
     "prompt_number": 8
    },
    {
     "cell_type": "code",
     "collapsed": false,
     "input": [
      "# Plot the relevant masses\n",
      "\n",
      "rga.plot_data(trace, [16, 17, 18, 19, 20])"
     ],
     "language": "python",
     "metadata": {},
     "outputs": [],
     "prompt_number": 9
    },
    {
     "cell_type": "code",
     "collapsed": false,
     "input": [
      "# define the candidate molecule\n",
      "\n",
      "# Hydrogen/Deuterium contianing molecules\n",
      "\n",
      "HM = {}\n",
      "HM['water'] = ['w', 'water', ['pw',0, 0.4]]\n",
      "HM['methane'] = ['m', 'methane', ['pm', 0, 0.1]]\n",
      "HM['ammonia14'] = ['a', 'ammonia', ['pa', 0.5, 0.8]]\n",
      "HM['ammonia15'] = ['a5', 'ammonia15', ['pa', 0.5, 0.8]]\n",
      "\n",
      "# HM keys have to be named this way as this is required by the PPF uploading function\n",
      "# It is assumed that 15N- and 14N-ammonia have the same HD ratio. This is done with using the same\n",
      "# fitting parameter - pa. Be aware that the last definition of 'pa' boundaries will override the previous one.\n",
      "# same goes for methane12 and methane13\n",
      "\n",
      "# Other molecules\n",
      "NHM = {}\n",
      "NHM['nitrogen'] = ['nit', 'N2']\n",
      "#NHM['nitrogen15'] = ['nit15', '15N2']\n",
      "NHM['oxygen'] = ['ox', 'O2']\n",
      "\n",
      "# define disregarded masses\n",
      "dis = [14, 15, [20, 40, 3E-7]] # disregard 14 and 15 always, 20 AMU if 40 AMU exceeds 3E-7"
     ],
     "language": "python",
     "metadata": {},
     "outputs": [],
     "prompt_number": 22
    },
    {
     "cell_type": "code",
     "collapsed": false,
     "input": [
      "trace.deconvolute(HM, NHM, dis, 40, 90, 2)\n",
      "print \"Deconvolution done, duraiton %s s.\" %trace.glob_duration"
     ],
     "language": "python",
     "metadata": {},
     "outputs": [
      {
       "output_type": "stream",
       "stream": "stdout",
       "text": [
        "Deconvolution done, duraiton 13.89 s.\n"
       ]
      }
     ],
     "prompt_number": 31
    },
    {
     "cell_type": "code",
     "collapsed": false,
     "input": [
      "rga.show_results(trace)"
     ],
     "language": "python",
     "metadata": {},
     "outputs": [],
     "prompt_number": 32
    },
    {
     "cell_type": "code",
     "collapsed": false,
     "input": [
      "# make a common ammonia signal\n",
      "\n",
      "total_ammonia(trace)"
     ],
     "language": "python",
     "metadata": {},
     "outputs": [],
     "prompt_number": 6
    },
    {
     "cell_type": "code",
     "collapsed": false,
     "input": [
      "# see the results again\n",
      "rga.show_results(trace)"
     ],
     "language": "python",
     "metadata": {},
     "outputs": []
    },
    {
     "cell_type": "code",
     "collapsed": false,
     "input": [
      "# show only relevant molecules\n",
      "\n",
      "rga.show_results(trace, ['water', 'methane', 'ammonia'])"
     ],
     "language": "python",
     "metadata": {},
     "outputs": [],
     "prompt_number": 13
    },
    {
     "cell_type": "code",
     "collapsed": false,
     "input": [
      "# get the pulse-integrated values\n",
      "\n",
      "trace.pulse_integrate()\n",
      "print trace.pulse_integrated_results['ammonia']['pressure']"
     ],
     "language": "python",
     "metadata": {},
     "outputs": [
      {
       "output_type": "stream",
       "stream": "stdout",
       "text": [
        "4.0762306824e-05\n"
       ]
      }
     ],
     "prompt_number": 14
    },
    {
     "cell_type": "code",
     "collapsed": false,
     "input": [
      "# if happy with the results, upload as PPF. uid will be pcrga, unless specified otherwise\n",
      "# This can only be done when pulse is complete\n",
      "# function returns [err1, err2/seq]. if err1 == 0, second field is seq, sequence number returned by ppf upload functions\n",
      "# if err1 != 0, second field is error message returned by ppf upload functions\n",
      "\n",
      "rga.upload_trace(trace)"
     ],
     "language": "python",
     "metadata": {},
     "outputs": []
    },
    {
     "cell_type": "code",
     "collapsed": false,
     "input": [
      "# Fit many times, to evaluate the impact of cracking pattern mismatch\n",
      "\n",
      "# function call:\n",
      "# fit_many_times(object, number of times, CP perturbation level, arguments used for deconvolute)\n",
      "# 0.1 is a good value for the CP perturbation level\n",
      "\n",
      "traces = fit_many_times(trace, 25, .1, HM, NHM, dis, 47, 120, 1)"
     ],
     "language": "python",
     "metadata": {},
     "outputs": [
      {
       "output_type": "stream",
       "stream": "stdout",
       "text": [
        "Doing 4 :  | 1 "
       ]
      },
      {
       "output_type": "stream",
       "stream": "stdout",
       "text": [
        " | 2 "
       ]
      },
      {
       "output_type": "stream",
       "stream": "stdout",
       "text": [
        " | 3 "
       ]
      },
      {
       "output_type": "stream",
       "stream": "stdout",
       "text": [
        " | 4 "
       ]
      },
      {
       "output_type": "stream",
       "stream": "stdout",
       "text": [
        "deconvolution done, total duration 21.02 seconds\n"
       ]
      }
     ],
     "prompt_number": 6
    },
    {
     "cell_type": "code",
     "collapsed": false,
     "input": [
      "# make average values from the many times of fittings\n",
      "\n",
      "average_trace = povpreci(traces)"
     ],
     "language": "python",
     "metadata": {},
     "outputs": []
    },
    {
     "cell_type": "code",
     "collapsed": false,
     "input": [
      "# Plot the results. Note the errorbars!\n",
      "\n",
      "errorbar_results(average_trace,sz, gl=['water','methane','ammonia'],lp=1)\n",
      "plt.show()\n",
      "\n",
      "# alternatively: save the plot\n",
      "\n",
      "# plot_name = 'some_name.png'\n",
      "# plt.savefig(plot_name, dpi=300)\n",
      "# plt.close()"
     ],
     "language": "python",
     "metadata": {},
     "outputs": []
    },
    {
     "cell_type": "code",
     "collapsed": false,
     "input": [
      "# Make a trace object with the average values and upload it as ppf.\n",
      "\n",
      "tr_a_complete = one_trace(traces)\n",
      "tr_a_complete = one_trace(traces)\n",
      "rga.upload_trace(tr_a_complete)"
     ],
     "language": "python",
     "metadata": {},
     "outputs": []
    },
    {
     "cell_type": "code",
     "collapsed": false,
     "input": [
      "# Get the pulse integrated value again\n",
      "\n",
      "\n",
      "trace.pulse_integrate()\n",
      "print trace.pulse_integrated_results['ammonia']['pressure']\n",
      "\n",
      "# If you want to integrate only up to a certain time, e.g. 90 s\n",
      "\n",
      "trace.pulse_integrate(pulse_stop=90)\n",
      "print trace.pulse_integrated_results['ammonia']['pressure']"
     ],
     "language": "python",
     "metadata": {},
     "outputs": []
    },
    {
     "cell_type": "code",
     "collapsed": false,
     "input": [
      "# Save the fitted traces for future use\n",
      "# It took a long while to do the many_times fit\n",
      "# Would be a shame to lose that work by overriding the variable\n",
      "# If traces from the same device, for the same pulse have been saved, a new number is added to the filename.\n",
      "# i.e., there is no overwritting of past data.\n",
      "\n",
      "save_traces(data_folder, traces)"
     ],
     "language": "python",
     "metadata": {},
     "outputs": []
    },
    {
     "cell_type": "code",
     "collapsed": false,
     "input": [
      "# This is how to retrieve the saved traces\n",
      "# function call: retrieve_traces(data_folder, JPN, device=<device>, num=<number>)\n",
      "# device - optional, default = RGA3\n",
      "# num - optional, number in integer format. This is the serial number of the data stored.\n",
      "\n",
      "# Expamples\n",
      "# retrieve last saved data for JPN: traces = retrieve_traces(data_folder, JPN)\n",
      "# retrieve 3rd saved data for JPN, from RGA1: traces = retrieve_traces(data_folder, JPN, device='RGA1', num=3)\n",
      "\n",
      "traces = retrieve_traces(data_folder, JPN)"
     ],
     "language": "python",
     "metadata": {},
     "outputs": []
    },
    {
     "cell_type": "code",
     "collapsed": false,
     "input": [],
     "language": "python",
     "metadata": {},
     "outputs": []
    }
   ],
   "metadata": {}
  }
 ]
}
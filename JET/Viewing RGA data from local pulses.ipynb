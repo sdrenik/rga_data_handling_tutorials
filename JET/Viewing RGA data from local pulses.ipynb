{
 "metadata": {
  "name": "Viewing RGA data from local pulses"
 },
 "nbformat": 3,
 "nbformat_minor": 0,
 "worksheets": [
  {
   "cells": [
    {
     "cell_type": "code",
     "collapsed": false,
     "input": [
      "# viewing of RGA data from local pulses\n",
      "\n",
      "import rga_data_wrapper as rga\n",
      "#import rga_import"
     ],
     "language": "python",
     "metadata": {},
     "outputs": [],
     "prompt_number": 1
    },
    {
     "cell_type": "code",
     "collapsed": false,
     "input": [
      "# local pulse numbers from the 6.1.2016 injections\n",
      "\n",
      "DFN = 2344"
     ],
     "language": "python",
     "metadata": {},
     "outputs": [],
     "prompt_number": 2
    },
    {
     "cell_type": "code",
     "collapsed": false,
     "input": [
      "# make an RGA Trace object with the pulse data from RGA1\n",
      "trace = rga.Trace(DFN, device='RGA1', source='JPF')"
     ],
     "language": "python",
     "metadata": {},
     "outputs": [],
     "prompt_number": 3
    },
    {
     "cell_type": "code",
     "collapsed": false,
     "input": [
      "# check if the object is filled with data\n",
      "\n",
      "trace.filled"
     ],
     "language": "python",
     "metadata": {},
     "outputs": [
      {
       "output_type": "pyout",
       "prompt_number": 4,
       "text": [
        "True"
       ]
      }
     ],
     "prompt_number": 4
    },
    {
     "cell_type": "code",
     "collapsed": false,
     "input": [
      "# plot the data\n",
      "\n",
      "rga.plot_data(trace)"
     ],
     "language": "python",
     "metadata": {},
     "outputs": [],
     "prompt_number": 5
    },
    {
     "cell_type": "code",
     "collapsed": false,
     "input": [
      "# plot the data for masses 2, 3 and 4 AMU only\n",
      "\n",
      "rga.plot_data(trace, [2, 3, 4])"
     ],
     "language": "python",
     "metadata": {},
     "outputs": [],
     "prompt_number": 9
    },
    {
     "cell_type": "code",
     "collapsed": false,
     "input": [
      "# look at the mumbers.\n",
      "# The data is stored in dictionary called 'columns'.\n",
      "\n",
      "# stored under the key 'time' is the time vector\n",
      "# the rest are intensity vectors at a given mass\n",
      "\n",
      "print trace.columns.keys()"
     ],
     "language": "python",
     "metadata": {},
     "outputs": [
      {
       "output_type": "stream",
       "stream": "stdout",
       "text": [
        "[32, 'index', 2, 3, 4, 44, 'time', 12, 14, 15, 16, 17, 18, 19, 20, 23, 28]\n"
       ]
      }
     ],
     "prompt_number": 6
    },
    {
     "cell_type": "code",
     "collapsed": false,
     "input": [
      "# read out the maximum intensity at mass 28 (probably useful for the calibration procedure)\n",
      "\n",
      "max(trace.columns[28])"
     ],
     "language": "python",
     "metadata": {},
     "outputs": [
      {
       "output_type": "pyout",
       "prompt_number": 7,
       "text": [
        "1.47812e-08"
       ]
      }
     ],
     "prompt_number": 7
    },
    {
     "cell_type": "code",
     "collapsed": false,
     "input": [
      "# load profile recordings\n",
      "# profile recordings are recorded continuously and can be accessed by date / time\n",
      "\n",
      "# Accessing the data stored on the dstorehost server can sometime take a long time\n",
      "# Expect waiting times up to 1 minute upon first access\n",
      "\n",
      "profile = rga.Profile('RGA3','Time', '10/09/2016', '12:00:00')"
     ],
     "language": "python",
     "metadata": {},
     "outputs": [],
     "prompt_number": 8
    },
    {
     "cell_type": "code",
     "collapsed": false,
     "input": [
      "# check if the data is there\n",
      "\n",
      "profile.filled"
     ],
     "language": "python",
     "metadata": {},
     "outputs": [
      {
       "output_type": "pyout",
       "prompt_number": 9,
       "text": [
        "True"
       ]
      }
     ],
     "prompt_number": 9
    },
    {
     "cell_type": "code",
     "collapsed": false,
     "input": [
      "# Shee when the scan was actually recorded\n",
      "\n",
      "profile.tag['timestamp']"
     ],
     "language": "python",
     "metadata": {},
     "outputs": [
      {
       "output_type": "pyout",
       "prompt_number": 11,
       "text": [
        "'12:00:39 10/09/2016'"
       ]
      }
     ],
     "prompt_number": 11
    },
    {
     "cell_type": "code",
     "collapsed": false,
     "input": [
      "rga.plot_data(profile)"
     ],
     "language": "python",
     "metadata": {},
     "outputs": [],
     "prompt_number": 13
    },
    {
     "cell_type": "code",
     "collapsed": false,
     "input": [
      "# the profile object has an attribute called 'MID_col' which contains the max. intensities at the recorded masses\n",
      "# the index of the the element corresponds to the mass\n",
      "\n",
      "\n",
      "profile.MID_col[28]  #this is the intensity at 28 AMU"
     ],
     "language": "python",
     "metadata": {},
     "outputs": [
      {
       "output_type": "pyout",
       "prompt_number": 16,
       "text": [
        "1.6474299999999999e-08"
       ]
      }
     ],
     "prompt_number": 16
    },
    {
     "cell_type": "code",
     "collapsed": false,
     "input": [],
     "language": "python",
     "metadata": {},
     "outputs": []
    }
   ],
   "metadata": {}
  }
 ]
}
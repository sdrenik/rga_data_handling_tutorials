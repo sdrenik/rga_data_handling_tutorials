{
 "cells": [
  {
   "cell_type": "code",
   "execution_count": 1,
   "metadata": {},
   "outputs": [
    {
     "ename": "ModuleNotFoundError",
     "evalue": "No module named 'RGA_wrapper_raw'",
     "output_type": "error",
     "traceback": [
      "\u001b[0;31m---------------------------------------------------------------------------\u001b[0m",
      "\u001b[0;31mModuleNotFoundError\u001b[0m                       Traceback (most recent call last)",
      "\u001b[0;32m<ipython-input-1-c6f989a6e3c8>\u001b[0m in \u001b[0;36m<module>\u001b[0;34m()\u001b[0m\n\u001b[1;32m      1\u001b[0m \u001b[0;32mimport\u001b[0m \u001b[0mscipy\u001b[0m \u001b[0;32mas\u001b[0m \u001b[0msp\u001b[0m\u001b[0;34m\u001b[0m\u001b[0;34m\u001b[0m\u001b[0m\n\u001b[0;32m----> 2\u001b[0;31m \u001b[0;32mimport\u001b[0m \u001b[0mRGA_wrapper_raw\u001b[0m \u001b[0;32mas\u001b[0m \u001b[0mrga\u001b[0m\u001b[0;34m\u001b[0m\u001b[0;34m\u001b[0m\u001b[0m\n\u001b[0m\u001b[1;32m      3\u001b[0m \u001b[0;32mimport\u001b[0m \u001b[0mmatplotlib\u001b[0m\u001b[0;34m.\u001b[0m\u001b[0mpyplot\u001b[0m \u001b[0;32mas\u001b[0m \u001b[0mplt\u001b[0m\u001b[0;34m\u001b[0m\u001b[0;34m\u001b[0m\u001b[0m\n",
      "\u001b[0;31mModuleNotFoundError\u001b[0m: No module named 'RGA_wrapper_raw'"
     ]
    }
   ],
   "source": [
    "import scipy as sp\n",
    "import RGA_wrapper_raw as rga\n",
    "import matplotlib.pyplot as plt"
   ]
  },
  {
   "cell_type": "code",
   "execution_count": 2,
   "metadata": {
    "collapsed": true
   },
   "outputs": [],
   "source": [
    "shot = 35598\n",
    "inst = 'HPQI'"
   ]
  },
  {
   "cell_type": "code",
   "execution_count": 3,
   "metadata": {
    "collapsed": true
   },
   "outputs": [],
   "source": [
    "trace = rga.Trace(inst, shot)"
   ]
  },
  {
   "cell_type": "code",
   "execution_count": 4,
   "metadata": {},
   "outputs": [
    {
     "data": {
      "text/plain": [
       "True"
      ]
     },
     "execution_count": 4,
     "metadata": {},
     "output_type": "execute_result"
    }
   ],
   "source": [
    "trace.filled"
   ]
  },
  {
   "cell_type": "code",
   "execution_count": 6,
   "metadata": {},
   "outputs": [],
   "source": [
    "rga.plot_data(trace)"
   ]
  },
  {
   "cell_type": "code",
   "execution_count": 9,
   "metadata": {
    "collapsed": true
   },
   "outputs": [],
   "source": [
    "rga.plot_data(trace, [14, 23, 32])"
   ]
  },
  {
   "cell_type": "code",
   "execution_count": 8,
   "metadata": {
    "collapsed": true
   },
   "outputs": [],
   "source": [
    "trace.correct_offset(23)"
   ]
  },
  {
   "cell_type": "code",
   "execution_count": 16,
   "metadata": {
    "collapsed": true
   },
   "outputs": [],
   "source": [
    "H_molecules = {}\n",
    "\n",
    "H_molecules['methane'] = ['m', 'methane', ['pm', 0, 0.1]]\n",
    "H_molecules['water'] = ['w', 'water', ['pw', 0, 0.1]]\n",
    "H_molecules['ammonia'] = ['a', 'ammonia', ['pa', .15, .22]]\n",
    "\n",
    "non_H_molecules = {}\n",
    "non_H_molecules['nitrogen'] = ['n', 'N2']\n",
    "non_H_molecules['oxygen'] = ['o', 'O2']\n",
    "\n",
    "disregard = [14]\n",
    "\n"
   ]
  },
  {
   "cell_type": "code",
   "execution_count": 17,
   "metadata": {},
   "outputs": [
    {
     "name": "stdout",
     "output_type": "stream",
     "text": [
      "Deconvolutiuon for HPQI #35598 done, duration 5.84 s.\n"
     ]
    }
   ],
   "source": [
    "trace.deconvolute(H_molecules, non_H_molecules, disregard, 0, 15, 1)"
   ]
  },
  {
   "cell_type": "code",
   "execution_count": 18,
   "metadata": {},
   "outputs": [],
   "source": [
    "rga.show_results(trace)"
   ]
  },
  {
   "cell_type": "code",
   "execution_count": 19,
   "metadata": {},
   "outputs": [
    {
     "name": "stdout",
     "output_type": "stream",
     "text": [
      "Doing 5 for HPQI #35598 :\n",
      " | 1  | 2  | 3  | 4  | 5 deconvolution done, total duration 15.46 seconds\n"
     ]
    }
   ],
   "source": [
    "traces = rga.fit_many_times(trace, 5, 0.1, [[], ''], H_molecules, non_H_molecules, disregard, 3, 10, 1)"
   ]
  },
  {
   "cell_type": "code",
   "execution_count": 20,
   "metadata": {
    "collapsed": true
   },
   "outputs": [],
   "source": [
    "average = rga.povpreci(traces)"
   ]
  },
  {
   "cell_type": "code",
   "execution_count": 22,
   "metadata": {
    "collapsed": true
   },
   "outputs": [],
   "source": [
    "rga.errorbar_results(average)\n",
    "plt.show()"
   ]
  },
  {
   "cell_type": "code",
   "execution_count": 23,
   "metadata": {
    "collapsed": true
   },
   "outputs": [],
   "source": [
    "import RGA_results_library as ng"
   ]
  },
  {
   "cell_type": "code",
   "execution_count": 24,
   "metadata": {
    "collapsed": true
   },
   "outputs": [],
   "source": [
    "NGAS = ng.NGAS()"
   ]
  },
  {
   "cell_type": "code",
   "execution_count": 25,
   "metadata": {
    "collapsed": true
   },
   "outputs": [],
   "source": [
    "data, report = NGAS.read_NGAS(35598)"
   ]
  },
  {
   "cell_type": "code",
   "execution_count": 26,
   "metadata": {},
   "outputs": [
    {
     "data": {
      "text/plain": [
       "['Instrument: HPQO | Many times fit, from HPQO #35598',\n",
       " 'Instrument: HIDEN | Many times fit, from HIDEN #35598',\n",
       " 'Instrument: HPQI | Many times fit, from HPQI #35598']"
      ]
     },
     "execution_count": 26,
     "metadata": {},
     "output_type": "execute_result"
    }
   ],
   "source": [
    "report"
   ]
  },
  {
   "cell_type": "code",
   "execution_count": 30,
   "metadata": {},
   "outputs": [
    {
     "data": {
      "text/plain": [
       "{'std': 281.74729889420041, 'val': 2817.4729889420041}"
      ]
     },
     "execution_count": 30,
     "metadata": {},
     "output_type": "execute_result"
    }
   ],
   "source": [
    "data['HPQI']['data']['ammonia']['pressure']['calibration factor']"
   ]
  },
  {
   "cell_type": "code",
   "execution_count": 31,
   "metadata": {
    "collapsed": true
   },
   "outputs": [],
   "source": [
    "from pressure_gauge_data import pressure"
   ]
  },
  {
   "cell_type": "code",
   "execution_count": 32,
   "metadata": {},
   "outputs": [
    {
     "name": "stderr",
     "output_type": "stream",
     "text": [
      "/afs/ipp/aug/ads-diags/common/python/lib/dd.py:118: RuntimeWarning: Warning by DDcsgnl (8.1): no calibration of data\n",
      "  warnings.warn(err_txt, RuntimeWarning)\n"
     ]
    }
   ],
   "source": [
    "pres = pressure(shot)"
   ]
  },
  {
   "cell_type": "code",
   "execution_count": 33,
   "metadata": {},
   "outputs": [
    {
     "name": "stdout",
     "output_type": "stream",
     "text": [
      "Pressure gauge data, shot #35598\r\n",
      "MSP settings file: /afs/ipp-garching.mpg.de/augd/rawfiles/MSP/device_settings/pressure_gauges/MSP_pressure_gauges_35517_35710.txt\r\n",
      "DSM settings file: /afs/ipp-garching.mpg.de/augd/rawfiles/MSP/device_settings/pressure_gauges/DSM_pressure_gauges_30149.txt\r\n",
      "MSP shot file read\r\n",
      "DSM shot file read\r\n",
      "UVS shot file read\r\n",
      "MAG shot file read\r\n",
      "Calibration file: /afs/ipp-garching.mpg.de/augd/rawfiles/MSP/device_settings/pressure_gauges/pressure_gauge_calibration_34988.txt\r\n",
      "Applied calibration from file.\n"
     ]
    }
   ],
   "source": [
    "pres.print_report()"
   ]
  },
  {
   "cell_type": "code",
   "execution_count": null,
   "metadata": {
    "collapsed": true
   },
   "outputs": [],
   "source": []
  }
 ],
 "metadata": {
  "kernelspec": {
   "display_name": "Python 3",
   "language": "python",
   "name": "python3"
  },
  "language_info": {
   "codemirror_mode": {
    "name": "ipython",
    "version": 3
   },
   "file_extension": ".py",
   "mimetype": "text/x-python",
   "name": "python",
   "nbconvert_exporter": "python",
   "pygments_lexer": "ipython3",
   "version": "3.6.8"
  }
 },
 "nbformat": 4,
 "nbformat_minor": 1
}

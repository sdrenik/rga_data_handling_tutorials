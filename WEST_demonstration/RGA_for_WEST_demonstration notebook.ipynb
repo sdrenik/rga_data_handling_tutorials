{
 "cells": [
  {
   "cell_type": "code",
   "execution_count": 1,
   "metadata": {
    "collapsed": true
   },
   "outputs": [],
   "source": [
    "# Demonstration notebook for RGA analysi for WEST\n",
    "\n",
    "# standard Python packages\n",
    "import scipy as sp\n",
    "import os, glob\n",
    "import matplotlib.pyplot as plt\n",
    "\n",
    "# RGA data handling code\n",
    "# main module\n",
    "from rga_data_handling import Class as rga\n",
    "# plotting functions\n",
    "from rga_data_handling import RGA_class_plotter as plot\n",
    "# evaluation of impact of uncertainty of cracking patterns\n",
    "from rga_data_handling import fit_many_times as fmt\n",
    "\n",
    "# RGA data reader\n",
    "from WEST_RGA_import import read_MID\n",
    "# WEST pulse times\n",
    "from WEST_logbook import WEST_logbook\n",
    "\n",
    "local_path = os.environ['LOCAL_DATA_PATH']\n",
    "\n",
    "# location of data files\n",
    "maindir = os.path.join(local_path, 'WEST', 'RGA','SP1','2018_12')\n",
    "# location of the logbook file\n",
    "logbook_dir = os.path.join(local_path, 'WEST','logbook')\n",
    "# logbook filename\n",
    "logbook_fn = 'West_pulse_times.txt'\n",
    "\n",
    "# initialize a logbook object instance\n",
    "logbook = WEST_logbook(os.path.join(logbook_dir, logbook_fn))\n",
    "\n",
    "list_of_RGA_files = glob.glob(os.path.join(maindir, \"*.asc\"))"
   ]
  },
  {
   "cell_type": "code",
   "execution_count": 14,
   "metadata": {
    "collapsed": false
   },
   "outputs": [],
   "source": [
    "# read the RGA recordings\n",
    "\n",
    "# file name dictionary\n",
    "# one file for each day\n",
    "\n",
    "fn_d = {'2018-12-18': 'C:\\\\Pest\\\\WEST\\\\RGA\\\\SP1\\\\2018_12\\\\2018-12-18_ammonia6.asc',\n",
    "       '2018-12-19': 'C:\\\\Pest\\\\WEST\\\\RGA\\\\SP1\\\\2018_12\\\\2018-12-18_ammonia8.1.asc'}\n",
    "\n",
    "# data dictionary\n",
    "# one dictionary entry for each date\n",
    "col_d = {}\n",
    "for day in fn_d.keys():\n",
    "    # data is returned as dictionary\n",
    "    # columns contains the time column, columns['hours'], and intensities at masses, e.g. columns[28]\n",
    "    err, tag, columns = read_MID(fn_d[day])\n",
    "    # tag is the metadata\n",
    "    col_d[day] = {'tag': tag, 'columns': columns}"
   ]
  },
  {
   "cell_type": "code",
   "execution_count": 16,
   "metadata": {
    "collapsed": true
   },
   "outputs": [],
   "source": [
    "# time of pre\n",
    "pre_s = 32\n",
    "\n",
    "def trace_at_shot(shot, length = 300):\n",
    "    \"\"\"Args\n",
    "        shot\n",
    "        optional: length - length of recording in s, default = 300\n",
    "        \n",
    "        Returns:\n",
    "        rga_data_handling Trace object\"\"\"\n",
    "    date, time = logbook.shot_date(shot)\n",
    "    hours = logbook.shot_hours(shot)\n",
    "    time_col = 'hours'\n",
    "    tag = col_d[date]['tag']\n",
    "    columns = col_d[date]['columns']\n",
    "    \n",
    "    window = [hours, hours + float(length)/3600]\n",
    "    new_columns = plot.focus_columns(columns, window, time_col_name=time_col)\n",
    "    try:\n",
    "        new_columns['time'] -= new_columns['time'][0]\n",
    "        new_columns['time'] -= pre_s\n",
    "    except IndexError:\n",
    "        tr = rga.Trace({}, {'title': 'empty trace'})\n",
    "        return tr\n",
    "    tr = rga.Trace(new_columns, tag)\n",
    "    tr.tag['shot'] = shot\n",
    "    tr.tag['title'] = shot\n",
    "    tr.set_timecol('time')\n",
    "    # load the cracking patterns from the calibration file 'WEST_CP.txt'\n",
    "    # the calibration file is in the same directory as the notebook\n",
    "    tr.replace_CP('WEST_CP.txt')\n",
    "    return tr"
   ]
  },
  {
   "cell_type": "code",
   "execution_count": 13,
   "metadata": {
    "collapsed": false
   },
   "outputs": [
    {
     "name": "stdout",
     "output_type": "stream",
     "text": [
      "All the shots on 18.12.2018\n",
      "[54117 54118 54119 54120 54121 54122 54123 54124 54125 54126 54127 54128\n",
      " 54129 54130 54131 54132 54133 54134 54135 54136 54137 54138 54139 54140\n",
      " 54141 54142 54143 54144 54145 54117 54118 54119 54120 54121 54122 54123\n",
      " 54124 54125 54126 54127 54128 54129 54130 54131 54132 54133 54134 54135\n",
      " 54136 54137 54138 54139 54140 54141 54142 54143 54144 54145]\n",
      "\n",
      "Date and time of shot 54143\n",
      "('2018-12-18', '20:20:01')\n",
      "\n",
      "Closest shot to 18:00, on 18.12.2018 - note, shot time is given and returned as float (hours)\n",
      "(54137, 17.991388888888888)\n",
      "\n",
      "Time of shot 54143, as float\n",
      "20.3336111111\n"
     ]
    }
   ],
   "source": [
    "# WEST shot times logbook\n",
    "\n",
    "print 'All the shots on 18.12.2018'\n",
    "print logbook.shots_at_date('2018-12-18')\n",
    "print ''\n",
    "print 'Date and time of shot 54143'\n",
    "print logbook.shot_date(54143)\n",
    "print ''\n",
    "print 'Closest shot to 18:00, on 18.12.2018 - note, shot time is given and returned as float (hours)'\n",
    "print logbook.shot_at_hours('2018-12-18', 18.0)\n",
    "print ''\n",
    "print 'Time of shot 54143, as float'\n",
    "print logbook.shot_hours(54143)"
   ]
  },
  {
   "cell_type": "code",
   "execution_count": 17,
   "metadata": {
    "collapsed": false
   },
   "outputs": [],
   "source": [
    "# Load the data from the the shot 54173\n",
    "shot = 54173\n",
    "tr = trace_at_shot(54173)"
   ]
  },
  {
   "cell_type": "code",
   "execution_count": 18,
   "metadata": {
    "collapsed": false
   },
   "outputs": [],
   "source": [
    "# plot the data\n",
    "\n",
    "plot.plot_data(tr)"
   ]
  },
  {
   "cell_type": "code",
   "execution_count": 19,
   "metadata": {
    "collapsed": true
   },
   "outputs": [],
   "source": [
    "# plot only selected masses\n",
    "plot.plot_data(tr, [18, 19, 20, 28])"
   ]
  },
  {
   "cell_type": "code",
   "execution_count": 21,
   "metadata": {
    "collapsed": false
   },
   "outputs": [],
   "source": [
    "# Define fitting parameters\n",
    "\n",
    "# hydrogen-containing molecules\n",
    "HM = {}\n",
    "\n",
    "# HM['name of fitted gas'] = [pressure_parameter_name, name of molecule - has to match the name in the calibration\n",
    "# definition of the isotope ratio]\n",
    "\n",
    "# isotope ratio definition:\n",
    "# 1: fitting_parameter_name\n",
    "# 2: [fitting_parameter_name, lower boundary, upper boundary]\n",
    "# 3: exact value\n",
    "\n",
    "HM['hydrogen'] = ['h', 'hydrogen', 'ph']\n",
    "HM['methane'] = ['m', 'methane', ['pm', 0, .1]]\n",
    "HM['water'] = ['w', 'water', ['pw', .8, 1]]\n",
    "\n",
    "# non-hydrogen containing molecules\n",
    "NHM = {}\n",
    "# [pressure_parameter_name, name of molecule in the calibration]\n",
    "NHM['nitrogen'] = ['nit', 'N2']\n",
    "\n",
    "# any masses that should be ignored in the fit are specified in disregard, in the following ways:\n",
    "# 1 - mass1: ignore mass1\n",
    "# [mass1, mass2, threshold]: ignore mass1 when mass2 >= threshold\n",
    "\n",
    "# e.g.: disregard = [12, [14, 28, 1e-6]]\n",
    "# ignore mass 12 always, ignore mass 14 when mass 28 is higher than 1e-6\n",
    "\n",
    "disregard = []\n",
    "\n",
    "# start time\n",
    "t1 = -5\n",
    "# end time\n",
    "t2 = 30\n",
    "# sample step size\n",
    "# step = 1 - analyse every datapoint\n",
    "# step = 3 - analyse every 3rd datapoint\n",
    "step = 1"
   ]
  },
  {
   "cell_type": "code",
   "execution_count": 22,
   "metadata": {
    "collapsed": false
   },
   "outputs": [
    {
     "name": "stdout",
     "output_type": "stream",
     "text": [
      "Deconvolutiuon for 54173 done, duration 10.3663931027 s.\n"
     ]
    }
   ],
   "source": [
    "tr.deconvolute(HM, NHM, disregard, t1, t2, step)"
   ]
  },
  {
   "cell_type": "code",
   "execution_count": 23,
   "metadata": {
    "collapsed": false
   },
   "outputs": [
    {
     "name": "stderr",
     "output_type": "stream",
     "text": [
      "C:\\Anaconda2\\lib\\site-packages\\matplotlib\\cbook.py:137: MatplotlibDeprecationWarning: The set_color_cycle attribute was deprecated in version 1.5. Use set_prop_cycle instead.\n",
      "  warnings.warn(message, mplDeprecation, stacklevel=1)\n"
     ]
    }
   ],
   "source": [
    "plot.show_results(tr)"
   ]
  },
  {
   "cell_type": "code",
   "execution_count": 25,
   "metadata": {
    "collapsed": true
   },
   "outputs": [],
   "source": [
    "# plot only for water and methane\n",
    "plot.show_results(tr, ['water', 'methane'])"
   ]
  },
  {
   "cell_type": "code",
   "execution_count": null,
   "metadata": {
    "collapsed": true
   },
   "outputs": [],
   "source": [
    "# the fitting results are stored in a dictionary called 'rescols' in the Trace object\n",
    "\n",
    "# each fitted molecule has a 'pressure' column\n",
    "# hydrogen containing molecules also have a 'ratio' column which contains the average H/(H+D) ratio"
   ]
  },
  {
   "cell_type": "code",
   "execution_count": 26,
   "metadata": {
    "collapsed": false
   },
   "outputs": [
    {
     "name": "stdout",
     "output_type": "stream",
     "text": [
      "Doing 25 for 54173 :\n",
      " | 1  | 2  | 3  | 4  | 5  | 6  | 7  | 8  | 9  | 10  | 11  | 12  | 13  | 14  | 15  | 16  | 17  | 18  | 19  | 20  | 21  | 22  | 23  | 24  | 25 deconvolution done, total duration 245.983759806 seconds\n"
     ]
    }
   ],
   "source": [
    "# evaluate the impact of uncertainty in the cracking patterns\n",
    "# fit many times, each time with perturbed cracking patterns\n",
    "# cracking patterns are perturbed randomly, with a given amplitude of perturbation\n",
    "\n",
    "# amplidute of perturbation:\n",
    "# 1 - as float (typical value = 0.1)\n",
    "# 2 - as a dictionary, float for each of the molecules\n",
    "\n",
    "perturb = {\n",
    "    'hydrogen': 0,\n",
    "    'water': 0.2,\n",
    "    'methane': 0.1\n",
    "}\n",
    "\n",
    "times = 25\n",
    "# to_join - joining of differnt isotopes into a single molecule\n",
    "# for example ammonia with 15N and ammonia with 14N\n",
    "# it is rarely used\n",
    "# and not this time, so it is an empty argument:\n",
    "to_join = [[], '']\n",
    "\n",
    "trs = fmt.fit_many_times(tr, times, perturb, to_join, HM, NHM, disregard, -5, 30, 1)"
   ]
  },
  {
   "cell_type": "code",
   "execution_count": 28,
   "metadata": {
    "collapsed": false
   },
   "outputs": [],
   "source": [
    "# get the average values from the fitted time traces\n",
    "average_traces = fmt.povpreci(trs)\n",
    "# and plot them, with errorbars\n",
    "fmt.errorbar_results(average_traces)\n",
    "plt.show()"
   ]
  },
  {
   "cell_type": "code",
   "execution_count": null,
   "metadata": {
    "collapsed": true
   },
   "outputs": [],
   "source": [
    "# data in average_traces is stored similarly to rescols\n",
    "# each column (pressure and ratio) now consists of two subcolumns:\n",
    "# val - average value of parameter\n",
    "# std - standard deviation of parameter"
   ]
  },
  {
   "cell_type": "code",
   "execution_count": null,
   "metadata": {
    "collapsed": true
   },
   "outputs": [],
   "source": []
  }
 ],
 "metadata": {
  "kernelspec": {
   "display_name": "Python 2",
   "language": "python",
   "name": "python2"
  },
  "language_info": {
   "codemirror_mode": {
    "name": "ipython",
    "version": 2
   },
   "file_extension": ".py",
   "mimetype": "text/x-python",
   "name": "python",
   "nbconvert_exporter": "python",
   "pygments_lexer": "ipython2",
   "version": "2.7.11"
  }
 },
 "nbformat": 4,
 "nbformat_minor": 0
}

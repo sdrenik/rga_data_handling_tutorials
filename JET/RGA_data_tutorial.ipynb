{
 "metadata": {
  "name": ""
 },
 "nbformat": 3,
 "nbformat_minor": 0,
 "worksheets": [
  {
   "cells": [
    {
     "cell_type": "code",
     "collapsed": false,
     "input": [
      "# Tutorial on accessing, viewing and analysing RGA data\n",
      "# Version August 2016\n",
      "# Aleksander Drenik\n",
      "# IPP Garching"
     ],
     "language": "python",
     "metadata": {},
     "outputs": [],
     "prompt_number": 1
    },
    {
     "cell_type": "code",
     "collapsed": false,
     "input": [
      "# Please note\n",
      "# RGA deconvolution code requirements:\n",
      "# pyhon version 2.7.3\n",
      "# module sympy\n",
      "# rga data analysis packages: rga_import, rga_data_handling, rga_data_wrapper"
     ],
     "language": "python",
     "metadata": {},
     "outputs": [],
     "prompt_number": 2
    },
    {
     "cell_type": "code",
     "collapsed": false,
     "input": [
      "import rga_data_wrapper as rga\n"
     ],
     "language": "python",
     "metadata": {},
     "outputs": [],
     "prompt_number": 3
    },
    {
     "cell_type": "code",
     "collapsed": false,
     "input": [
      "# Load pulse-mode RGA data from a given JPN\n",
      "# This will create a 'RGA.Trace' type object\n",
      "\n",
      "JPN = 85423\n",
      "\n",
      "trace = rga.Trace(JPN)\n",
      "\n",
      "# The data is stored in a dictionary called columns\n",
      "# key: 'time' - time vector\n",
      "# key <mass> - data at recorded AMU. mass should be a string\n",
      "\n",
      "# recorded data:\n",
      "print \"recorded data keys: \",\n",
      "print trace.columns.keys()\n",
      "print \"Data tag: \",\n",
      "print trace.tag"
     ],
     "language": "python",
     "metadata": {},
     "outputs": [
      {
       "output_type": "stream",
       "stream": "stdout",
       "text": [
        "recorded data keys:  [1, 2, 3, 4, 12, 13, 14, 15, 16, 17, 18, 19, 20, 21, 23, 28, 29, 30, 31, 32, 'index', 40, 'time']\n",
        "Data tag:  {'date': '03/10/2013', 'JPN': 85423, 'title': 'RGA3 JPN 85423', 'import_error': 0, 'time-of-pre': '10:42:27', 'source': 'PPF', 'mode': 'Retrieved from PPF: KT5R, UID: adrenik', 'device': 'RGA3', 'init_errors': [], 'time_unit': 's'}\n"
       ]
      }
     ],
     "prompt_number": 4
    },
    {
     "cell_type": "code",
     "collapsed": false,
     "input": [
      "# View the timetrace\n",
      "# Note - to continue running this notebook, close the popup window that appears next\n",
      "\n",
      "rga.plot_data(trace)"
     ],
     "language": "python",
     "metadata": {},
     "outputs": [],
     "prompt_number": 5
    },
    {
     "cell_type": "code",
     "collapsed": false,
     "input": [
      "# Produce pulse-integrated values of the recorded masses:\n",
      "# Integral of intensities from 40 seconds onwards\n",
      "# Average values of signals before 40 seconds are used as background and subtracted from the signals\n",
      "# This function takes an optional argument - end time of integration\n",
      "# The default value is the last datastamp of the recordings\n",
      "# i.e. integration of the whole recording\n",
      "trace.pulse_integrate()\n",
      "\n",
      "# Results are stored as dictionaries, with same naming as the original data\n",
      "print \"Pulse integrated values\"\n",
      "for key in trace.pulse_integral.keys():\n",
      "    print \"%s AMU: %s\" %(key, trace.pulse_integral[key]),\n",
      "print \"\"\n",
      "# Also the background values\n",
      "print \"Background values\"\n",
      "for key in trace.background.keys():\n",
      "    print \"%s AMU: %s\" %(key, trace.background[key]),"
     ],
     "language": "python",
     "metadata": {},
     "outputs": [
      {
       "output_type": "stream",
       "stream": "stdout",
       "text": [
        "Pulse integrated values\n",
        "13 AMU: 7.36395e-08 12 AMU: 2.90011e-07 15 AMU: 3.16815e-07 14 AMU: 4.46524e-06 17 AMU: 1.39098e-05 16 AMU: 6.69235e-06 19 AMU: 6.9861e-06 18 AMU: 1.85389e-05 31 AMU: 3.80579e-07 23 AMU: -1.58449e-08 28 AMU: 7.62037e-05 29 AMU: 1.02748e-06 40 AMU: 9.85666e-07 1 AMU: 3.77807e-05 3 AMU: 2.68412e-05 2 AMU: 1.54445e-05 4 AMU: 0.00109573 30 AMU: 1.40683e-05 20 AMU: 9.88672e-06 32 AMU: 1.81333e-06 21 AMU: 1.65639e-07 \n",
        "Background values\n",
        "13 AMU: -6.72641e-10 12 AMU: -1.20169e-10 15 AMU: 3.83928e-10 14 AMU: 1.91577e-10 17 AMU: 2.80689e-09 16 AMU: 2.25596e-09 19 AMU: 3.69338e-09 18 AMU: 5.23062e-09 31 AMU: 1.91964e-10 23 AMU: 1.93118e-10 28 AMU: 1.58846e-08 29 AMU: -9.63657e-11 40 AMU: -3.11365e-10 1 AMU: 8.23178e-09 3 AMU: 6.19006e-09 2 AMU: 8.92553e-09 4 AMU: 4.60713e-09 30 AMU: 6.94525e-10 20 AMU: 7.21016e-10 32 AMU: 1.91964e-09 21 AMU: -3.83542e-10\n"
       ]
      }
     ],
     "prompt_number": 4
    },
    {
     "cell_type": "code",
     "collapsed": false,
     "input": [
      "# Deconvolute the recorded data\n",
      "\n",
      "# Definition of the candidate molecules\n",
      "# The candidate molecules are defined with two dictionaries, one for hydrogen-containing molecules\n",
      "# and one for other molecules\n",
      "\n",
      "# Hydrogen-containing molecules (ammonia, methane, water)\n",
      "# Definied as:\n",
      "# name of fitting parameter the for partial pressure\n",
      "# name of molecule for cracking pattern construction\n",
      "# H/(H+D) ratio. Either fixed value, string (fitting parameter name) or list: [fitting parameter name, lower boundary, upper boundary]\n",
      "\n",
      "# The following three definitions show all three options of H/(H+D) ratio definitios\n",
      "\n",
      "Hspecies = {}\n",
      "Hspecies[\"Amn\"] = [\"a\", \"ammonia\", [\"pa\", 0.5, 0.75]]\n",
      "# This defines a candidate molecule named \"Amn\", with a cracking pattern corresponding to ammonia\n",
      "# with a fitting parameter \"a\" for its partial pressure\n",
      "# and a fitting parameter \"pa\" for its H/(H+D) ratio, limited between 0.5 and 0.75\n",
      "\n",
      "Hspecies[\"Wtr\"] = [\"w\", \"water\", \"pw\"]\n",
      "# This defines a candidate molecule named \"Wtr\", with a cracking pattern corresponding to water\n",
      "# with a fitting parameter \"w\" for its partial pressure\n",
      "# and a fitting parameter \"pw\" for its H/(H+D) ratio, not limited (i.e. effectively limited between 0 and 1)\n",
      "\n",
      "Hspecies[\"Mth\"] = [\"m\", \"methane\", 0.05]\n",
      "# This defines a candidate molecule named \"Mth\", with a cracking pattern corresponding to methane\n",
      "# with a fitting parameter \"m\" for its partial pressure\n",
      "# and a fixed H/(H+D) ratio, with the value of 0.05\n",
      "\n",
      "#Definition of non-hydrogen species\n",
      "#Defined as: [name of fitting parameter for the partial pressure, name of molecule for cracking pattern construction\n",
      "nonHspecies = {}\n",
      "nonHspecies['nitrogen'] = [\"nit\",\"N2\"]\n",
      "nonHspecies['argon'] = [\"arg\",\"Ar\"]\n",
      "nonHspecies['oxygen'] = ['ox','O2']\n",
      "# This defines a candidate molecule names \"oxygen\", with a cracking pattern corresponding to O2\n",
      "# with a fitting parameter \"ox\" for its partial pressure\n",
      "\n",
      "# Definition of disregarded masses\n",
      "# When some masses are expected to cause confusion, they can be disregarded\n",
      "# e.g. During Ar injections, 20 AMU is not used to search for methane, ammonia and water\n",
      "# The definitions are stored in a list, with the following structure:\n",
      "# [...,element, ...] where can be:\n",
      "# integer: mass to be disregarded (mass as integer)\n",
      "# list: [mass1, mass2, threshold], mass1 - mass to be disregarded when intensity at mass2 is greater than <threshold>\n",
      "\n",
      "disregard = [14, [20, 40, 5*10**-8]]\n",
      "\n"
     ],
     "language": "python",
     "metadata": {},
     "outputs": [],
     "prompt_number": 5
    },
    {
     "cell_type": "code",
     "collapsed": false,
     "input": [
      "# The cracking patterns (CP) used in the fit are - as of 17.12.2015 - taken from Hiden Analytical\n",
      "# and stored in a text file (\"Hiden official.txt\")\n",
      "# If needed, a different set of CPs can be used:\n",
      "# e.g. let's use those defined in \"Hiden perturbed.txt\"\n",
      "\n",
      "trace.replace_CP(\"Hiden perturbed.txt\")\n",
      "\n",
      "# The CP data can be viewed in the following way:\n",
      "\n",
      "print trace.molecules.calib\n"
     ],
     "language": "python",
     "metadata": {},
     "outputs": [],
     "prompt_number": 7
    },
    {
     "cell_type": "code",
     "collapsed": false,
     "input": [
      "# But before we continue, let's reload the default values again:\n",
      "trace.replace_CP(\"Hiden official.txt\")"
     ],
     "language": "python",
     "metadata": {},
     "outputs": []
    },
    {
     "cell_type": "code",
     "collapsed": false,
     "input": [
      "# The deconvolute code is run with the following arguments:\n",
      "# definitions of H-containing molecules\n",
      "# definitions of other molecules\n",
      "# start time (data taken from start time onwards)\n",
      "# end time (data taken up to end time)\n",
      "# sample point stepsize (1 - every sample point will be analysed)\n",
      "# disrgegard\n",
      "\n",
      "# Let's fit every 5th data point at first, to save time\n",
      "trace.deconvolute(Hspecies, nonHspecies, disregard, 45, 80, 5)\n",
      "\n",
      "print \"Duration of fitting: %s seconds\" %(trace.glob_duration)"
     ],
     "language": "python",
     "metadata": {},
     "outputs": [
      {
       "output_type": "stream",
       "stream": "stdout",
       "text": [
        "Duration of fitting: 1.75 seconds\n"
       ]
      }
     ],
     "prompt_number": 7
    },
    {
     "cell_type": "code",
     "collapsed": false,
     "input": [
      "# Now let's look at the results\n",
      "\n",
      "rga.show_results(trace)"
     ],
     "language": "python",
     "metadata": {},
     "outputs": [],
     "prompt_number": 11
    },
    {
     "cell_type": "code",
     "collapsed": false,
     "input": [
      "# It looks okay-ish, but let's limit the water H/(H+D) ratio to 0.4:\n",
      "\n",
      "Hspecies[\"Wtr\"] = [\"w\", \"water\", [\"pw\", 0, 0.4]]\n",
      "\n",
      "# This time, fit all of the data points between 45 and 80 secs:\n",
      "trace.deconvolute(Hspecies, nonHspecies, disregard, 45, 80, 1)\n",
      "\n",
      "print \"Duration of fitting: %s seconds\" %(trace.glob_duration)"
     ],
     "language": "python",
     "metadata": {},
     "outputs": [
      {
       "output_type": "stream",
       "stream": "stdout",
       "text": [
        "Duration of fitting: 7.65 seconds\n"
       ]
      }
     ],
     "prompt_number": 8
    },
    {
     "cell_type": "code",
     "collapsed": false,
     "input": [
      "# Let's look at the new results\n",
      "\n",
      "rga.show_results(trace)"
     ],
     "language": "python",
     "metadata": {},
     "outputs": [],
     "prompt_number": 9
    },
    {
     "cell_type": "code",
     "collapsed": false,
     "input": [
      "# Let's only look at the interesting molecules\n",
      "\n",
      "rga.show_results(trace, Hspecies.keys())"
     ],
     "language": "python",
     "metadata": {},
     "outputs": [],
     "prompt_number": 10
    },
    {
     "cell_type": "code",
     "collapsed": false,
     "input": [
      "# Now that we're happy with the results, we can export them\n",
      "\n",
      "#export_name = \"Tutorial output for %s\" %JPN\n",
      "trace.export()\n",
      "\n",
      "# The results will be saved in a subfolder \"EXPORT\" in several filenames, all beginning with the export_name\n",
      "\n",
      "# Optionally, the raw data can also be exported:\n",
      "\n",
      "#trace.export(export_name, True)"
     ],
     "language": "python",
     "metadata": {},
     "outputs": [],
     "prompt_number": 12
    },
    {
     "cell_type": "code",
     "collapsed": false,
     "input": [
      "# Profile RGA recordings\n",
      "\n",
      "# Load an RGA profile recording\n",
      "# This will create a 'RGA.Trace' type object\n",
      "\n",
      "# Profile recordings are - in principle - available from all RGAs\n",
      "# And are accessible by JPN, date / time or UTC\n",
      "\n",
      "# Warning - accessing RGA profile data may take a seriously long while.\n",
      "# Minutes.\n",
      "# I guess this is related to accessing data from the dstorehost server\n",
      "# After we've accessed the data for the first time, the access time will be considerably shorter on following accesses.\n",
      "\n",
      "# Find the first profile recording after JPN 85423, recorded by RGA3\n",
      "device = \"RGA3\"\n",
      "FindBy = \"JPN\"\n",
      "JPN = 85423\n",
      "profile = rga.Profile(device, FindBy, JPN)"
     ],
     "language": "python",
     "metadata": {},
     "outputs": [],
     "prompt_number": 16
    },
    {
     "cell_type": "code",
     "collapsed": false,
     "input": [
      "# The profile data is stored in \"datatag\". Look:\n",
      "\n",
      "# shift: number of profile recordings away from wanted JPN\n",
      "# delay: seconds after time-of-pre of the pulse\n",
      "print profile.tag"
     ],
     "language": "python",
     "metadata": {},
     "outputs": [
      {
       "output_type": "stream",
       "stream": "stdout",
       "text": [
        "{'find_by': 'JPN: 85423', 'title': 'RGA3 JPN 85423', 'timestamp': '10:45:28 03/10/2013', 'UTC_seconds': 1380793528.171, 'import_error': 0, 'delay': 181.1710000038147, 'device': 'RGA3', 'JPN': 85423, 'shift': 0, 'duration': 57.736}\n"
       ]
      }
     ],
     "prompt_number": 17
    },
    {
     "cell_type": "code",
     "collapsed": false,
     "input": [
      "# Other ways of looking for profile recordings:\n",
      "\n",
      "# Find the last profile recording before JPN 85423, recorded by RGA3\n",
      "profile2 = rga.Profile(\"RGA3\", \"JPN\", \"85423 -1\")\n",
      "\n",
      "# Find the fifth profile recording after JPN 85423, recorded by RGA3\n",
      "profile3 = rga.Profile(\"RGA3\", \"JPN\", \"85423 5\")\n",
      "\n",
      "# Find a profile recording from MS1, recorded closest to 13:00 on Oct 3rd, 2013\n",
      "profile4 = rga.Profile(\"MS1\", \"Time\", \"03/10/2013\", \"13:00:00\")\n",
      "\n",
      "# Find a profile recording from MS1, recorded to 13:00 on Oct 3rd, 2013, by UTC\n",
      "profile5 = rga.Profile(\"MS1\", \"UTC\", 1380801581.0)"
     ],
     "language": "python",
     "metadata": {},
     "outputs": [],
     "prompt_number": 18
    },
    {
     "cell_type": "code",
     "collapsed": false,
     "input": [
      "# When looking by date/time or UTC, delay is seconds between wanted time and time of recording\n",
      "print profile4.tag"
     ],
     "language": "python",
     "metadata": {},
     "outputs": [
      {
       "output_type": "stream",
       "stream": "stdout",
       "text": [
        "{'find_by': 'Date/Time: 03/10/2013 13:00:00', 'title': 'MS1 12:59:41 03/10/2013', 'timestamp': '12:59:41 03/10/2013', 'UTC_seconds': 1380801581.0, 'import_error': 0, 'delay': -19.0, 'device': 'MS1', 'duration': 103}\n"
       ]
      }
     ],
     "prompt_number": 19
    },
    {
     "cell_type": "code",
     "collapsed": false,
     "input": [
      "# Now look at the profile data:\n",
      "\n",
      "rga.plot_data(profile)"
     ],
     "language": "python",
     "metadata": {},
     "outputs": [],
     "prompt_number": 20
    },
    {
     "cell_type": "code",
     "collapsed": false,
     "input": [
      "# Deconvolute the profile data\n",
      "\n",
      "Hspecies = {} \n",
      "Hspecies['ammonia'] = [\"a\",\"ammonia\",[\"pa\", 0.25, .75]]\n",
      "Hspecies['methane'] = [\"m\",\"methane\",0.05]\n",
      "Hspecies[\"water\"] = [\"w\",\"water\",[\"pw\", 0, 0.4]]\n",
      "\n",
      "nonHspecies = {} \n",
      "nonHspecies['nitrogen'] = [\"nit\",\"N2\"]\n",
      "nonHspecies['CO2'] = [\"CO2\",\"CO2\"]\n",
      "nonHspecies['CO'] = [\"CO\",\"CO\"]\n",
      "nonHspecies['O2'] = ['O2','O2']\n",
      "\n",
      "disregard = []\n",
      "\n",
      "profile.deconvolute(Hspecies, nonHspecies, disregard)"
     ],
     "language": "python",
     "metadata": {},
     "outputs": [],
     "prompt_number": 21
    },
    {
     "cell_type": "code",
     "collapsed": false,
     "input": [
      "# And look at the results\n",
      "rga.show_results(profile)"
     ],
     "language": "python",
     "metadata": {},
     "outputs": [],
     "prompt_number": 22
    },
    {
     "cell_type": "code",
     "collapsed": false,
     "input": [
      "# perhaps we need to allow for more H in water:\n",
      "Hspecies[\"water\"] = [\"w\",\"water\",\"pw\"]\n",
      "\n",
      "profile.deconvolute(Hspecies, nonHspecies, disregard)\n",
      "rga.show_results(profile)"
     ],
     "language": "python",
     "metadata": {},
     "outputs": [],
     "prompt_number": 28
    },
    {
     "cell_type": "code",
     "collapsed": false,
     "input": [
      "# maybe ammonia and water should have the same H/(H+D) ratio?\n",
      "\n",
      "Hspecies['ammonia'] = [\"a\",\"ammonia\",\"p\"]\n",
      "Hspecies[\"water\"] = [\"w\",\"water\",\"p\"]\n",
      "\n",
      "profile.deconvolute(Hspecies, nonHspecies, disregard)\n",
      "rga.show_results(profile)"
     ],
     "language": "python",
     "metadata": {},
     "outputs": [],
     "prompt_number": 5
    },
    {
     "cell_type": "code",
     "collapsed": false,
     "input": [
      "# When happy with the results, they can be exported:\n",
      "\n",
      "export_name = \"Tutorial export of JPN %s\" %JPN\n",
      "profile.export(export_name)"
     ],
     "language": "python",
     "metadata": {},
     "outputs": [],
     "prompt_number": 6
    },
    {
     "cell_type": "code",
     "collapsed": false,
     "input": [
      "# Exporting of individual data points from time-traces as profiles\n",
      "\n",
      "JPN = 85423\n",
      "trace = RGA.Trace(JPN)\n",
      "rga.plot_data(trace)"
     ],
     "language": "python",
     "metadata": {},
     "outputs": [],
     "prompt_number": 7
    },
    {
     "cell_type": "code",
     "collapsed": false,
     "input": [
      "# The data at 58 secs looks interesting\n",
      "\n",
      "wanted_time = 58\n",
      "profile_t = trace.Make_Profile(wanted_time)\n",
      "print profile_t.datatag"
     ],
     "language": "python",
     "metadata": {},
     "outputs": [
      {
       "output_type": "stream",
       "stream": "stdout",
       "text": [
        "{'FindBy': ['Time in pulse', 58], 'wanted time': 58, 'delay': -0.37947845458984375, 'data point #': 41, 'device': 'RGA3', 'actual time': 58.379478454589844, 'mode': 'export from timetrace'}\n"
       ]
      }
     ],
     "prompt_number": 10
    },
    {
     "cell_type": "code",
     "collapsed": false,
     "input": [
      "# Look at the recorded data\n",
      "\n",
      "rga.plot_data(profile_t)"
     ],
     "language": "python",
     "metadata": {},
     "outputs": [
      {
       "output_type": "stream",
       "stream": "stdout",
       "text": [
        "bar\n"
       ]
      }
     ],
     "prompt_number": 11
    },
    {
     "cell_type": "code",
     "collapsed": false,
     "input": [
      "# Deconvolute the data\n",
      "\n",
      "Hspecies = {} \n",
      "Hspecies['ammonia'] = [\"a\",\"ammonia\",[\"pa\", 0.25, .75]]\n",
      "Hspecies['methane'] = [\"m\",\"methane\",0.05]\n",
      "Hspecies[\"water\"] = [\"w\",\"water\",[\"pw\", 0, 0.4]]\n",
      "\n",
      "nonHspecies = {} \n",
      "nonHspecies['nitrogen'] = [\"nit\",\"N2\"]\n",
      "nonHspecies['CO2'] = [\"CO2\",\"CO2\"]\n",
      "nonHspecies['CO'] = [\"CO\",\"CO\"]\n",
      "nonHspecies['O2'] = ['O2','O2']\n",
      "\n",
      "disregard = [14, [20, 40, 5*10**-8]]\n",
      "\n",
      "profile_t.deconvolute(Hspecies, nonHspecies, disregard)\n",
      "\n",
      "rga.show_results(profile_t)"
     ],
     "language": "python",
     "metadata": {},
     "outputs": [],
     "prompt_number": 13
    },
    {
     "cell_type": "code",
     "collapsed": false,
     "input": [],
     "language": "python",
     "metadata": {},
     "outputs": []
    }
   ],
   "metadata": {}
  }
 ]
}